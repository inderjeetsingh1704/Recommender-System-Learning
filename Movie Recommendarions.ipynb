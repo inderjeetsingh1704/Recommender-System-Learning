{
 "cells": [
  {
   "cell_type": "code",
   "execution_count": 24,
   "metadata": {},
   "outputs": [],
   "source": [
    "import pandas as pd\n",
    "import numpy as np\n",
    "import warnings\n",
    "warnings.filterwarnings('ignore')"
   ]
  },
  {
   "cell_type": "markdown",
   "metadata": {},
   "source": [
    "#### DataSet"
   ]
  },
  {
   "cell_type": "code",
   "execution_count": 25,
   "metadata": {},
   "outputs": [
    {
     "data": {
      "text/html": [
       "<div>\n",
       "<table border=\"1\" class=\"dataframe\">\n",
       "  <thead>\n",
       "    <tr style=\"text-align: right;\">\n",
       "      <th></th>\n",
       "      <th>user_id</th>\n",
       "      <th>item_id</th>\n",
       "      <th>rating</th>\n",
       "      <th>timestamp</th>\n",
       "      <th>title</th>\n",
       "    </tr>\n",
       "  </thead>\n",
       "  <tbody>\n",
       "    <tr>\n",
       "      <th>0</th>\n",
       "      <td>0</td>\n",
       "      <td>50</td>\n",
       "      <td>5</td>\n",
       "      <td>881250949</td>\n",
       "      <td>Star Wars (1977)</td>\n",
       "    </tr>\n",
       "    <tr>\n",
       "      <th>1</th>\n",
       "      <td>290</td>\n",
       "      <td>50</td>\n",
       "      <td>5</td>\n",
       "      <td>880473582</td>\n",
       "      <td>Star Wars (1977)</td>\n",
       "    </tr>\n",
       "    <tr>\n",
       "      <th>2</th>\n",
       "      <td>79</td>\n",
       "      <td>50</td>\n",
       "      <td>4</td>\n",
       "      <td>891271545</td>\n",
       "      <td>Star Wars (1977)</td>\n",
       "    </tr>\n",
       "    <tr>\n",
       "      <th>3</th>\n",
       "      <td>2</td>\n",
       "      <td>50</td>\n",
       "      <td>5</td>\n",
       "      <td>888552084</td>\n",
       "      <td>Star Wars (1977)</td>\n",
       "    </tr>\n",
       "    <tr>\n",
       "      <th>4</th>\n",
       "      <td>8</td>\n",
       "      <td>50</td>\n",
       "      <td>5</td>\n",
       "      <td>879362124</td>\n",
       "      <td>Star Wars (1977)</td>\n",
       "    </tr>\n",
       "  </tbody>\n",
       "</table>\n",
       "</div>"
      ],
      "text/plain": [
       "   user_id  item_id  rating  timestamp             title\n",
       "0        0       50       5  881250949  Star Wars (1977)\n",
       "1      290       50       5  880473582  Star Wars (1977)\n",
       "2       79       50       4  891271545  Star Wars (1977)\n",
       "3        2       50       5  888552084  Star Wars (1977)\n",
       "4        8       50       5  879362124  Star Wars (1977)"
      ]
     },
     "execution_count": 25,
     "metadata": {},
     "output_type": "execute_result"
    }
   ],
   "source": [
    "movie_data = pd.read_csv('u.data',sep='\\t',names=['user_id','item_id','rating','timestamp'])\n",
    "movie_names = pd.read_csv('Movie_Id_Titles')\n",
    "movie_data= pd.merge(movie_data,movie_names,on='item_id')\n",
    "movie_data.head()"
   ]
  },
  {
   "cell_type": "code",
   "execution_count": 26,
   "metadata": {},
   "outputs": [],
   "source": [
    "def MovieMatrix(movieData):\n",
    "    movieMatrix = movieData.pivot_table(index = 'user_id',values = 'rating',columns='title')\n",
    "    return movieMatrix\n",
    "\n",
    "def MovieCoeff(movieName,movieMatrix):\n",
    "    movie_correlation = movieMatrix.corrwith(movieMatrix[movieName])\n",
    "    single_movie = pd.DataFrame(movie_correlation,columns=['Correlation'])\n",
    "    single_movie.dropna(inplace=True)\n",
    "    single_movie = single_movie.join(movie_data.groupby('title')['rating'].count())\n",
    "    print(single_movie[single_movie['rating']>100].sort_values('Correlation',ascending = False).head(10))"
   ]
  },
  {
   "cell_type": "code",
   "execution_count": 27,
   "metadata": {},
   "outputs": [],
   "source": [
    "def main():\n",
    "    Matrix = MovieMatrix(movie_data)\n",
    "    movieName = input(\"Movie \")\n",
    "    recMovie = MovieCoeff(movieName,Matrix)"
   ]
  },
  {
   "cell_type": "code",
   "execution_count": 28,
   "metadata": {},
   "outputs": [
    {
     "name": "stdout",
     "output_type": "stream",
     "text": [
      "                                  Correlation  rating\n",
      "title                                                \n",
      "Ulee's Gold (1997)                   1.000000     184\n",
      "Great Escape, The (1963)             1.000000     124\n",
      "Manchurian Candidate, The (1962)     1.000000     131\n",
      "Philadelphia Story, The (1940)       1.000000     104\n",
      "Good Will Hunting (1997)             0.966130     198\n",
      "Kiss the Girls (1997)                0.946100     143\n",
      "Stargate (1994)                      0.907485     127\n",
      "Fly Away Home (1996)                 0.892753     180\n",
      "Crash (1996)                         0.866025     128\n",
      "Sense and Sensibility (1995)         0.835229     268\n"
     ]
    }
   ],
   "source": [
    "main()"
   ]
  },
  {
   "cell_type": "code",
   "execution_count": 29,
   "metadata": {},
   "outputs": [
    {
     "name": "stdout",
     "output_type": "stream",
     "text": [
      "                               Correlation  rating\n",
      "title                                             \n",
      "Toy Story (1995)                  1.000000     452\n",
      "Craft, The (1996)                 0.549100     104\n",
      "Down Periscope (1996)             0.457995     101\n",
      "Miracle on 34th Street (1994)     0.456291     101\n",
      "G.I. Jane (1997)                  0.454756     175\n",
      "Amistad (1997)                    0.449915     124\n",
      "Beauty and the Beast (1991)       0.442960     202\n",
      "Mask, The (1994)                  0.432855     129\n",
      "Cinderella (1950)                 0.428372     129\n",
      "That Thing You Do! (1996)         0.427936     176\n"
     ]
    }
   ],
   "source": [
    "main()"
   ]
  },
  {
   "cell_type": "code",
   "execution_count": 30,
   "metadata": {},
   "outputs": [
    {
     "name": "stdout",
     "output_type": "stream",
     "text": [
      "                                   Correlation  rating\n",
      "title                                                 \n",
      "Batman Forever (1995)                 1.000000     114\n",
      "Down Periscope (1996)                 0.624417     101\n",
      "Jungle2Jungle (1997)                  0.611052     132\n",
      "As Good As It Gets (1997)             0.587782     112\n",
      "Net, The (1995)                       0.568909     120\n",
      "Alien: Resurrection (1997)            0.568416     124\n",
      "Conspiracy Theory (1997)              0.549008     295\n",
      "My Best Friend's Wedding (1997)       0.548884     172\n",
      "Michael (1996)                        0.537619     119\n",
      "Interview with the Vampire (1994)     0.526954     137\n"
     ]
    }
   ],
   "source": [
    "main()"
   ]
  },
  {
   "cell_type": "code",
   "execution_count": 31,
   "metadata": {},
   "outputs": [
    {
     "name": "stdout",
     "output_type": "stream",
     "text": [
      "                                                    Correlation  rating\n",
      "title                                                                  \n",
      "Star Wars (1977)                                       1.000000     584\n",
      "Empire Strikes Back, The (1980)                        0.748353     368\n",
      "Return of the Jedi (1983)                              0.672556     507\n",
      "Raiders of the Lost Ark (1981)                         0.536117     420\n",
      "Austin Powers: International Man of Mystery (1997)     0.377433     130\n",
      "Sting, The (1973)                                      0.367538     241\n",
      "Indiana Jones and the Last Crusade (1989)              0.350107     331\n",
      "Pinocchio (1940)                                       0.347868     101\n",
      "Frighteners, The (1996)                                0.332729     115\n",
      "L.A. Confidential (1997)                               0.319065     297\n"
     ]
    }
   ],
   "source": [
    "main()"
   ]
  },
  {
   "cell_type": "code",
   "execution_count": null,
   "metadata": {},
   "outputs": [],
   "source": []
  },
  {
   "cell_type": "code",
   "execution_count": null,
   "metadata": {},
   "outputs": [],
   "source": []
  },
  {
   "cell_type": "code",
   "execution_count": null,
   "metadata": {},
   "outputs": [],
   "source": []
  }
 ],
 "metadata": {
  "kernelspec": {
   "display_name": "Python 3",
   "language": "python",
   "name": "python3"
  },
  "language_info": {
   "codemirror_mode": {
    "name": "ipython",
    "version": 3
   },
   "file_extension": ".py",
   "mimetype": "text/x-python",
   "name": "python",
   "nbconvert_exporter": "python",
   "pygments_lexer": "ipython3",
   "version": "3.4.2"
  }
 },
 "nbformat": 4,
 "nbformat_minor": 2
}
